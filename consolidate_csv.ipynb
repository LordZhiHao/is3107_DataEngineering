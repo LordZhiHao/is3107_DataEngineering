{
 "cells": [
  {
   "cell_type": "code",
   "execution_count": 26,
   "metadata": {},
   "outputs": [],
   "source": [
    "import pandas as pd\n",
    "import numpy as np"
   ]
  },
  {
   "cell_type": "code",
   "execution_count": 19,
   "metadata": {},
   "outputs": [],
   "source": [
    "mapping_dict = {\n",
    "    \"job title\": [\"Designation\", \"Job Title\", \"titles\", \"title\"],\n",
    "    \"description\": [\"Job Description\", \"teasers\", \"description\"],\n",
    "    \"company\": [\"Company\", \"companies\", \"company\"],\n",
    "    \"salary range\": [\"Allowance / Remuneration\", \"Salary\", \"salaries\"]\n",
    "}"
   ]
  },
  {
   "cell_type": "code",
   "execution_count": 6,
   "metadata": {},
   "outputs": [],
   "source": [
    "# reading internsg\n",
    "internsg_df = pd.read_csv('InternSg_WebScraping/internSG_jobs.csv')"
   ]
  },
  {
   "cell_type": "code",
   "execution_count": 7,
   "metadata": {},
   "outputs": [],
   "source": [
    "# reading indeed\n",
    "indeed_df = pd.read_csv('Indeed_WebScraping/indeed_jobs_modified.csv')"
   ]
  },
  {
   "cell_type": "code",
   "execution_count": 9,
   "metadata": {},
   "outputs": [],
   "source": [
    "# reading jobstreet\n",
    "jobstreet_df = pd.read_csv('JobStreet_WebScraping/jobstreet_jobs_data.csv')"
   ]
  },
  {
   "cell_type": "code",
   "execution_count": 16,
   "metadata": {},
   "outputs": [],
   "source": [
    "# readin linkedin\n",
    "linkedin_dir = 'LinkedIn_WebScraping/'\n",
    "linkedin_DA = pd.read_csv(linkedin_dir + 'dataAnalyst_jobs.csv')\n",
    "linkedin_DS =  pd.read_csv(linkedin_dir + 'dataScientist_jobs.csv')\n",
    "linkedin_MLE = pd.read_csv(linkedin_dir + 'machineLearningEngineer_jobs.csv')\n",
    "# consolidate 3 linkedin files\n",
    "linkedin_df = pd.concat([linkedin_DA, linkedin_DS, linkedin_MLE]).reset_index(drop=True).drop_duplicates()"
   ]
  },
  {
   "cell_type": "code",
   "execution_count": 28,
   "metadata": {},
   "outputs": [],
   "source": [
    "def rename_and_filter_columns(df, mapping):\n",
    "    renamed_columns = {}\n",
    "    for new_name, old_names in mapping.items():\n",
    "        for old_name in old_names:\n",
    "            if old_name in df.columns:\n",
    "                renamed_columns[old_name] = new_name\n",
    "                break  # Stop looking once we find the first match\n",
    "        if new_name not in renamed_columns.values():  # Check if the new_name is not yet in the renamed_columns\n",
    "            df[new_name] = np.nan  # If a column is missing, create it with all null values\n",
    "    # Rename the columns and re-order based on the mapping dictionary keys to ensure consistency\n",
    "    return df.rename(columns=renamed_columns)[list(mapping.keys())]\n"
   ]
  },
  {
   "cell_type": "code",
   "execution_count": 29,
   "metadata": {},
   "outputs": [],
   "source": [
    "internsg_df_new = rename_and_filter_columns(internsg_df, mapping_dict)\n",
    "indeed_df_new = rename_and_filter_columns(indeed_df, mapping_dict)\n",
    "jobstreet_df_new = rename_and_filter_columns(jobstreet_df, mapping_dict)\n",
    "linkedin_df_new = rename_and_filter_columns(linkedin_df, mapping_dict)"
   ]
  },
  {
   "cell_type": "code",
   "execution_count": 32,
   "metadata": {},
   "outputs": [],
   "source": [
    "consolidated_df = pd.concat([internsg_df_new,indeed_df_new,jobstreet_df_new,linkedin_df_new])"
   ]
  },
  {
   "cell_type": "code",
   "execution_count": 33,
   "metadata": {},
   "outputs": [
    {
     "data": {
      "text/html": [
       "<div>\n",
       "<style scoped>\n",
       "    .dataframe tbody tr th:only-of-type {\n",
       "        vertical-align: middle;\n",
       "    }\n",
       "\n",
       "    .dataframe tbody tr th {\n",
       "        vertical-align: top;\n",
       "    }\n",
       "\n",
       "    .dataframe thead th {\n",
       "        text-align: right;\n",
       "    }\n",
       "</style>\n",
       "<table border=\"1\" class=\"dataframe\">\n",
       "  <thead>\n",
       "    <tr style=\"text-align: right;\">\n",
       "      <th></th>\n",
       "      <th>job title</th>\n",
       "      <th>description</th>\n",
       "      <th>company</th>\n",
       "      <th>salary range</th>\n",
       "    </tr>\n",
       "  </thead>\n",
       "  <tbody>\n",
       "    <tr>\n",
       "      <th>0</th>\n",
       "      <td>Intern, AI researcher for AIOT</td>\n",
       "      <td>Job DescriptionThis position targets to develo...</td>\n",
       "      <td>Robert Bosch (SEA) Pte Ltd</td>\n",
       "      <td>$1,200 - 1,400 monthly</td>\n",
       "    </tr>\n",
       "    <tr>\n",
       "      <th>1</th>\n",
       "      <td>Business Development Assistant</td>\n",
       "      <td>Responsibilities:● Develop partnerships within...</td>\n",
       "      <td>Meso Labs Pte Ltd</td>\n",
       "      <td>$800 - 5,000 monthly</td>\n",
       "    </tr>\n",
       "    <tr>\n",
       "      <th>2</th>\n",
       "      <td>Software Engineer Intern</td>\n",
       "      <td>Assisting in the development of web-based appl...</td>\n",
       "      <td>BotDistrikt</td>\n",
       "      <td>$700 - 1,000 monthly</td>\n",
       "    </tr>\n",
       "    <tr>\n",
       "      <th>3</th>\n",
       "      <td>Software Engineer Intern</td>\n",
       "      <td>We are looking for an enthusiastic Software En...</td>\n",
       "      <td>Fresh Cars Pte Ltd</td>\n",
       "      <td>$800 - 1,200 monthly</td>\n",
       "    </tr>\n",
       "    <tr>\n",
       "      <th>4</th>\n",
       "      <td>UI / UX Designer and QA Tester Intern</td>\n",
       "      <td>We are seeking a talentedUI/UX Designer and QA...</td>\n",
       "      <td>Werk SG</td>\n",
       "      <td>$800 - 1,000 monthly</td>\n",
       "    </tr>\n",
       "  </tbody>\n",
       "</table>\n",
       "</div>"
      ],
      "text/plain": [
       "                               job title  \\\n",
       "0         Intern, AI researcher for AIOT   \n",
       "1         Business Development Assistant   \n",
       "2               Software Engineer Intern   \n",
       "3               Software Engineer Intern   \n",
       "4  UI / UX Designer and QA Tester Intern   \n",
       "\n",
       "                                         description  \\\n",
       "0  Job DescriptionThis position targets to develo...   \n",
       "1  Responsibilities:● Develop partnerships within...   \n",
       "2  Assisting in the development of web-based appl...   \n",
       "3  We are looking for an enthusiastic Software En...   \n",
       "4  We are seeking a talentedUI/UX Designer and QA...   \n",
       "\n",
       "                      company            salary range  \n",
       "0  Robert Bosch (SEA) Pte Ltd  $1,200 - 1,400 monthly  \n",
       "1           Meso Labs Pte Ltd    $800 - 5,000 monthly  \n",
       "2                 BotDistrikt    $700 - 1,000 monthly  \n",
       "3          Fresh Cars Pte Ltd    $800 - 1,200 monthly  \n",
       "4                     Werk SG    $800 - 1,000 monthly  "
      ]
     },
     "execution_count": 33,
     "metadata": {},
     "output_type": "execute_result"
    }
   ],
   "source": [
    "consolidated_df.head()"
   ]
  },
  {
   "cell_type": "code",
   "execution_count": 35,
   "metadata": {},
   "outputs": [],
   "source": [
    "consolidated_df.to_csv('consolidated.csv',index=False)"
   ]
  },
  {
   "cell_type": "code",
   "execution_count": 37,
   "metadata": {},
   "outputs": [
    {
     "name": "stdout",
     "output_type": "stream",
     "text": [
      "(2412, 4)\n"
     ]
    }
   ],
   "source": [
    "print(consolidated_df.shape)\n",
    "# print(linkedin_df.shape)"
   ]
  }
 ],
 "metadata": {
  "kernelspec": {
   "display_name": "base",
   "language": "python",
   "name": "python3"
  },
  "language_info": {
   "codemirror_mode": {
    "name": "ipython",
    "version": 3
   },
   "file_extension": ".py",
   "mimetype": "text/x-python",
   "name": "python",
   "nbconvert_exporter": "python",
   "pygments_lexer": "ipython3",
   "version": "3.10.9"
  },
  "orig_nbformat": 4,
  "vscode": {
   "interpreter": {
    "hash": "af3174790ae585d247763590376d478637580d04a55c0f6663c6b7ad8182cdda"
   }
  }
 },
 "nbformat": 4,
 "nbformat_minor": 2
}

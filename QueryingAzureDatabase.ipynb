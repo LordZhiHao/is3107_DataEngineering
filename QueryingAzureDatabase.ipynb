{
 "cells": [
  {
   "cell_type": "code",
   "execution_count": 16,
   "metadata": {},
   "outputs": [],
   "source": [
    "# import relevant packages\n",
    "# pip install pypyodbc \n",
    "import pypyodbc as odbc \n",
    "import pandas as pd\n",
    "from credentials import username, password"
   ]
  },
  {
   "cell_type": "code",
   "execution_count": 17,
   "metadata": {},
   "outputs": [],
   "source": [
    "# prepare the variables \n",
    "server = \"is3107jobs.database.windows.net\"\n",
    "database = \"is3107JobsDB\"\n",
    "connection_string = 'Driver={ODBC Driver 18 for SQL Server};Server='+server+',1433;Database='+database+';Uid='+username+';Pwd='+password+';Encrypt=yes;TrustServerCertificate=no;Connection Timeout=30;'"
   ]
  },
  {
   "cell_type": "code",
   "execution_count": 18,
   "metadata": {},
   "outputs": [],
   "source": [
    "# connect to database \n",
    "conn = odbc.connect(connection_string)\n",
    "tableName = 'consolidatedJobs'"
   ]
  },
  {
   "cell_type": "code",
   "execution_count": 19,
   "metadata": {},
   "outputs": [],
   "source": [
    "# test query\n",
    "query1 = 'SELECT * FROM consolidatedJobs'\n",
    "cursor = conn.cursor()"
   ]
  },
  {
   "cell_type": "code",
   "execution_count": 20,
   "metadata": {},
   "outputs": [],
   "source": [
    "# run query\n",
    "cursor.execute(query1)\n",
    "dataset = cursor.fetchall()"
   ]
  },
  {
   "cell_type": "code",
   "execution_count": 21,
   "metadata": {},
   "outputs": [
    {
     "data": {
      "text/html": [
       "<div>\n",
       "<style scoped>\n",
       "    .dataframe tbody tr th:only-of-type {\n",
       "        vertical-align: middle;\n",
       "    }\n",
       "\n",
       "    .dataframe tbody tr th {\n",
       "        vertical-align: top;\n",
       "    }\n",
       "\n",
       "    .dataframe thead th {\n",
       "        text-align: right;\n",
       "    }\n",
       "</style>\n",
       "<table border=\"1\" class=\"dataframe\">\n",
       "  <thead>\n",
       "    <tr style=\"text-align: right;\">\n",
       "      <th></th>\n",
       "      <th>job_title</th>\n",
       "      <th>description</th>\n",
       "      <th>company</th>\n",
       "      <th>salary_range</th>\n",
       "    </tr>\n",
       "  </thead>\n",
       "  <tbody>\n",
       "    <tr>\n",
       "      <th>0</th>\n",
       "      <td>Intern, AI researcher for AIOT</td>\n",
       "      <td>Job DescriptionThis position targets to develo...</td>\n",
       "      <td>Robert Bosch (SEA) Pte Ltd</td>\n",
       "      <td>$1,200 - 1,400 monthly</td>\n",
       "    </tr>\n",
       "    <tr>\n",
       "      <th>1</th>\n",
       "      <td>Business Development Assistant</td>\n",
       "      <td>Responsibilities:? Develop partnerships within...</td>\n",
       "      <td>Meso Labs Pte Ltd</td>\n",
       "      <td>$800 - 5,000 monthly</td>\n",
       "    </tr>\n",
       "    <tr>\n",
       "      <th>2</th>\n",
       "      <td>Software Engineer Intern</td>\n",
       "      <td>Assisting in the development of web-based appl...</td>\n",
       "      <td>BotDistrikt</td>\n",
       "      <td>$700 - 1,000 monthly</td>\n",
       "    </tr>\n",
       "    <tr>\n",
       "      <th>3</th>\n",
       "      <td>Software Engineer Intern</td>\n",
       "      <td>We are looking for an enthusiastic Software En...</td>\n",
       "      <td>Fresh Cars Pte Ltd</td>\n",
       "      <td>$800 - 1,200 monthly</td>\n",
       "    </tr>\n",
       "    <tr>\n",
       "      <th>4</th>\n",
       "      <td>Software Data Tester</td>\n",
       "      <td>New Start-up!Software TestingQuality Assurance...</td>\n",
       "      <td>Starstruck</td>\n",
       "      <td>$650 - 800 monthly</td>\n",
       "    </tr>\n",
       "  </tbody>\n",
       "</table>\n",
       "</div>"
      ],
      "text/plain": [
       "                        job_title  \\\n",
       "0  Intern, AI researcher for AIOT   \n",
       "1  Business Development Assistant   \n",
       "2        Software Engineer Intern   \n",
       "3        Software Engineer Intern   \n",
       "4            Software Data Tester   \n",
       "\n",
       "                                         description  \\\n",
       "0  Job DescriptionThis position targets to develo...   \n",
       "1  Responsibilities:? Develop partnerships within...   \n",
       "2  Assisting in the development of web-based appl...   \n",
       "3  We are looking for an enthusiastic Software En...   \n",
       "4  New Start-up!Software TestingQuality Assurance...   \n",
       "\n",
       "                      company            salary_range  \n",
       "0  Robert Bosch (SEA) Pte Ltd  $1,200 - 1,400 monthly  \n",
       "1           Meso Labs Pte Ltd    $800 - 5,000 monthly  \n",
       "2                 BotDistrikt    $700 - 1,000 monthly  \n",
       "3          Fresh Cars Pte Ltd    $800 - 1,200 monthly  \n",
       "4                  Starstruck      $650 - 800 monthly  "
      ]
     },
     "execution_count": 21,
     "metadata": {},
     "output_type": "execute_result"
    }
   ],
   "source": [
    "colnames = ['job_title', 'description', 'company', 'salary_range']\n",
    "df = pd.DataFrame(dataset, columns=colnames)\n",
    "df.head()"
   ]
  }
 ],
 "metadata": {
  "kernelspec": {
   "display_name": "Python 3",
   "language": "python",
   "name": "python3"
  },
  "language_info": {
   "codemirror_mode": {
    "name": "ipython",
    "version": 3
   },
   "file_extension": ".py",
   "mimetype": "text/x-python",
   "name": "python",
   "nbconvert_exporter": "python",
   "pygments_lexer": "ipython3",
   "version": "3.9.13"
  }
 },
 "nbformat": 4,
 "nbformat_minor": 2
}
